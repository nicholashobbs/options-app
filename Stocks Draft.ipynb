{
 "cells": [
  {
   "cell_type": "code",
   "execution_count": 1,
   "metadata": {},
   "outputs": [],
   "source": [
    "import pandas as pd\n",
    "import numpy as np\n",
    "%matplotlib inline"
   ]
  },
  {
   "cell_type": "code",
   "execution_count": 2,
   "metadata": {
    "scrolled": true
   },
   "outputs": [],
   "source": [
    "import quandl\n",
    "quandl.ApiConfig.api_key = \"***\""
   ]
  },
  {
   "cell_type": "code",
   "execution_count": 3,
   "metadata": {},
   "outputs": [],
   "source": [
    "stocks = {\n",
    "    'Tencent': 'HKEX/00700',\n",
    "    'CKLife': 'HKEX/00775',\n",
    "    'Waison': 'HKEX/03393',\n",
    "    'Cowell': 'HKEX/01415'\n",
    "}"
   ]
  },
  {
   "cell_type": "code",
   "execution_count": 4,
   "metadata": {},
   "outputs": [],
   "source": [
    "def make_quandl_df(stocks):\n",
    "    df = pd.DataFrame()\n",
    "    for stock in stocks.keys():\n",
    "        stock_df = quandl.get(stocks[stock])\n",
    "        df[stock] = stock_df['Nominal Price']\n",
    "    return df"
   ]
  },
  {
   "cell_type": "code",
   "execution_count": 5,
   "metadata": {},
   "outputs": [],
   "source": [
    "hk_stocks = make_quandl_df(stocks)"
   ]
  },
  {
   "cell_type": "code",
   "execution_count": 74,
   "metadata": {},
   "outputs": [],
   "source": [
    "class Portfolio():\n",
    "    def __init__(self, cash, df, start_date, initial_holdings):\n",
    "        self.price_history = df.loc[start_date:]\n",
    "        self.stocks = list(self.price_history.columns)\n",
    "        self.price_history[self.stocks] = self.price_history[self.stocks].fillna(method='pad')\n",
    "        self.holdings_history = pd.DataFrame(0, columns = list(self.price_history.columns) , index=self.price_history.index)\n",
    "        self.holdings_history['cash'] = cash\n",
    "        self.initial_holdings = init_h\n",
    "        self.trade_history = []\n",
    "        self.latest_date = self.price_history.tail(1).index[0]\n",
    "#         self.stocks.remove('cash')\n",
    "        \n",
    "    @property\n",
    "    def data(self):\n",
    "        trade_df = pd.DataFrame(self.trade_history).set_index('datetime')\n",
    "        full_df = self.price_history.join(trade_df, how='outer').rename_axis('Date')\n",
    "        \n",
    "        full_df.loc[:,'portfolio_value'] = full_df.apply(lambda x:self.value_at_date(x.name), axis=1)\n",
    "        return full_df\n",
    "\n",
    "    @property\n",
    "    def current_value(self):\n",
    "        holdings_value = 0\n",
    "        for stock in self.stocks:\n",
    "            price = self.price_history.loc[self.latest_date, stock]\n",
    "            quantity = self.holdings_history.loc[self.latest_date, stock]\n",
    "            holdings_value += price*quantity\n",
    "        return holdings_value + self.holdings_history.loc[self.latest_date,'cash']\n",
    "    \n",
    "    def value_at_date(self, date):\n",
    "        holdings_value = 0\n",
    "        for stock in  self.stocks:\n",
    "            price = self.price_history.loc[date, stock]\n",
    "            quantity = self.holdings_history.loc[date, stock]\n",
    "            holdings_value += price*quantity\n",
    "        return holdings_value + self.holdings_history.loc[date,'cash']\n"
   ]
  },
  {
   "cell_type": "code",
   "execution_count": 75,
   "metadata": {},
   "outputs": [],
   "source": [
    "class Strategy(Portfolio):\n",
    "    def __init__(self, cash, df, start_date, initial_holdings):\n",
    "        super().__init__(cash, df, start_date, initial_holdings)\n",
    "        \n",
    "        for k in initial_holdings.keys():\n",
    "            trade_price = self.price_history.loc[start_date, k]\n",
    "            trade_value = round(initial_holdings[k] * trade_price, 2)\n",
    "            self.holdings_history.loc[start_date:,'cash'] -= trade_value\n",
    "            self.holdings_history.loc[start_date:, k] += initial_holdings[k]\n",
    "            \n",
    "    def make_trade(self, trade_date, quantity, asset):\n",
    "        \n",
    "        trade_price = self.price_history.loc[trade_date, asset]\n",
    "        trade_value = round(quantity * trade_price, 2)\n",
    "        self.holdings_history.loc[trade_date:,'cash'] -= trade_value\n",
    "\n",
    "        trade = {'datetime': pd.to_datetime(trade_date),\n",
    "                 'quantity': quantity,\n",
    "                 'asset': asset,\n",
    "                 'trade_value': trade_value}\n",
    "        \n",
    "        self.trade_history.append(trade)\n",
    "        self.holdings_history.loc[trade_date:, asset] += quantity\n",
    "        \n",
    "        \n",
    "    def make_random_trades(self,n):\n",
    "        \n",
    "        for i in range(n):\n",
    "            trade_date = np.random.choice(self.price_history.index)\n",
    "            trade_proportion = np.random.random() * 3/4 + .25\n",
    "            trade_type = np.random.choice(['buy', 'sell'])\n",
    "\n",
    "            if trade_type == 'buy':\n",
    "\n",
    "                trade_asset = np.random.choice(self.stocks)\n",
    "                trade_theoretical_amount = trade_proportion * self.holdings_history.loc[trade_date,'cash']\n",
    "                trade_price = self.price_history.loc[trade_date, trade_asset]\n",
    "                quantity = trade_theoretical_amount//trade_price\n",
    "                rt = (trade_date, quantity, trade_asset)\n",
    "\n",
    "            if trade_type == 'sell':\n",
    "\n",
    "                trade_asset = np.random.choice(self.stocks)\n",
    "                trade_price = self.price_history.loc[trade_date, trade_asset]\n",
    "                quantity = round(self.holdings_history.loc[trade_date, trade_asset] * trade_proportion) * -1\n",
    "                rt = (trade_date, quantity, trade_asset)\n",
    "\n",
    "            self.make_trade(*rt)"
   ]
  },
  {
   "cell_type": "code",
   "execution_count": 76,
   "metadata": {},
   "outputs": [],
   "source": [
    "init_h = {\n",
    "            'Tencent': 120,\n",
    "            'CKLife': 9000,\n",
    "            'Waison': 1500,\n",
    "            'Cowell': 800\n",
    "        }"
   ]
  },
  {
   "cell_type": "code",
   "execution_count": 77,
   "metadata": {},
   "outputs": [],
   "source": [
    "s = Strategy(100000, hk_stocks, '2018-01-02', init_h)"
   ]
  },
  {
   "cell_type": "code",
   "execution_count": 78,
   "metadata": {},
   "outputs": [
    {
     "data": {
      "text/plain": [
       "100670.0"
      ]
     },
     "execution_count": 78,
     "metadata": {},
     "output_type": "execute_result"
    }
   ],
   "source": [
    "s.value_at_date('2018-01-03')"
   ]
  },
  {
   "cell_type": "code",
   "execution_count": 79,
   "metadata": {},
   "outputs": [],
   "source": [
    "s.make_random_trades(15)"
   ]
  },
  {
   "cell_type": "code",
   "execution_count": 80,
   "metadata": {},
   "outputs": [
    {
     "data": {
      "text/html": [
       "<div>\n",
       "<style scoped>\n",
       "    .dataframe tbody tr th:only-of-type {\n",
       "        vertical-align: middle;\n",
       "    }\n",
       "\n",
       "    .dataframe tbody tr th {\n",
       "        vertical-align: top;\n",
       "    }\n",
       "\n",
       "    .dataframe thead th {\n",
       "        text-align: right;\n",
       "    }\n",
       "</style>\n",
       "<table border=\"1\" class=\"dataframe\">\n",
       "  <thead>\n",
       "    <tr style=\"text-align: right;\">\n",
       "      <th></th>\n",
       "      <th>Tencent</th>\n",
       "      <th>CKLife</th>\n",
       "      <th>Waison</th>\n",
       "      <th>Cowell</th>\n",
       "      <th>quantity</th>\n",
       "      <th>asset</th>\n",
       "      <th>trade_value</th>\n",
       "      <th>portfolio_value</th>\n",
       "    </tr>\n",
       "    <tr>\n",
       "      <th>Date</th>\n",
       "      <th></th>\n",
       "      <th></th>\n",
       "      <th></th>\n",
       "      <th></th>\n",
       "      <th></th>\n",
       "      <th></th>\n",
       "      <th></th>\n",
       "      <th></th>\n",
       "    </tr>\n",
       "  </thead>\n",
       "  <tbody>\n",
       "  </tbody>\n",
       "</table>\n",
       "</div>"
      ],
      "text/plain": [
       "Empty DataFrame\n",
       "Columns: [Tencent, CKLife, Waison, Cowell, quantity, asset, trade_value, portfolio_value]\n",
       "Index: []"
      ]
     },
     "execution_count": 80,
     "metadata": {},
     "output_type": "execute_result"
    }
   ],
   "source": [
    "s.data[s.data['Cowell'].isna()]"
   ]
  },
  {
   "cell_type": "code",
   "execution_count": 83,
   "metadata": {},
   "outputs": [],
   "source": [
    "s.data.to_csv('bt_app/hk_stocks.csv')"
   ]
  },
  {
   "cell_type": "code",
   "execution_count": 84,
   "metadata": {},
   "outputs": [
    {
     "data": {
      "text/html": [
       "<div>\n",
       "<style scoped>\n",
       "    .dataframe tbody tr th:only-of-type {\n",
       "        vertical-align: middle;\n",
       "    }\n",
       "\n",
       "    .dataframe tbody tr th {\n",
       "        vertical-align: top;\n",
       "    }\n",
       "\n",
       "    .dataframe thead th {\n",
       "        text-align: right;\n",
       "    }\n",
       "</style>\n",
       "<table border=\"1\" class=\"dataframe\">\n",
       "  <thead>\n",
       "    <tr style=\"text-align: right;\">\n",
       "      <th></th>\n",
       "      <th>Tencent</th>\n",
       "      <th>CKLife</th>\n",
       "      <th>Waison</th>\n",
       "      <th>Cowell</th>\n",
       "      <th>quantity</th>\n",
       "      <th>asset</th>\n",
       "      <th>trade_value</th>\n",
       "      <th>portfolio_value</th>\n",
       "    </tr>\n",
       "    <tr>\n",
       "      <th>Date</th>\n",
       "      <th></th>\n",
       "      <th></th>\n",
       "      <th></th>\n",
       "      <th></th>\n",
       "      <th></th>\n",
       "      <th></th>\n",
       "      <th></th>\n",
       "      <th></th>\n",
       "    </tr>\n",
       "  </thead>\n",
       "  <tbody>\n",
       "    <tr>\n",
       "      <th>2018-01-02</th>\n",
       "      <td>417.8</td>\n",
       "      <td>0.60</td>\n",
       "      <td>3.82</td>\n",
       "      <td>2.80</td>\n",
       "      <td>NaN</td>\n",
       "      <td>NaN</td>\n",
       "      <td>NaN</td>\n",
       "      <td>100000.00</td>\n",
       "    </tr>\n",
       "    <tr>\n",
       "      <th>2018-01-03</th>\n",
       "      <td>422.2</td>\n",
       "      <td>0.60</td>\n",
       "      <td>3.92</td>\n",
       "      <td>2.79</td>\n",
       "      <td>NaN</td>\n",
       "      <td>NaN</td>\n",
       "      <td>NaN</td>\n",
       "      <td>100670.00</td>\n",
       "    </tr>\n",
       "    <tr>\n",
       "      <th>2018-01-04</th>\n",
       "      <td>431.8</td>\n",
       "      <td>0.59</td>\n",
       "      <td>4.11</td>\n",
       "      <td>2.77</td>\n",
       "      <td>NaN</td>\n",
       "      <td>NaN</td>\n",
       "      <td>NaN</td>\n",
       "      <td>102001.00</td>\n",
       "    </tr>\n",
       "    <tr>\n",
       "      <th>2018-01-05</th>\n",
       "      <td>433.2</td>\n",
       "      <td>0.61</td>\n",
       "      <td>4.14</td>\n",
       "      <td>2.72</td>\n",
       "      <td>NaN</td>\n",
       "      <td>NaN</td>\n",
       "      <td>NaN</td>\n",
       "      <td>102354.00</td>\n",
       "    </tr>\n",
       "    <tr>\n",
       "      <th>2018-01-08</th>\n",
       "      <td>438.6</td>\n",
       "      <td>0.60</td>\n",
       "      <td>4.07</td>\n",
       "      <td>2.68</td>\n",
       "      <td>NaN</td>\n",
       "      <td>NaN</td>\n",
       "      <td>NaN</td>\n",
       "      <td>102775.00</td>\n",
       "    </tr>\n",
       "    <tr>\n",
       "      <th>...</th>\n",
       "      <td>...</td>\n",
       "      <td>...</td>\n",
       "      <td>...</td>\n",
       "      <td>...</td>\n",
       "      <td>...</td>\n",
       "      <td>...</td>\n",
       "      <td>...</td>\n",
       "      <td>...</td>\n",
       "    </tr>\n",
       "    <tr>\n",
       "      <th>2020-04-02</th>\n",
       "      <td>379.8</td>\n",
       "      <td>0.96</td>\n",
       "      <td>2.51</td>\n",
       "      <td>1.89</td>\n",
       "      <td>NaN</td>\n",
       "      <td>NaN</td>\n",
       "      <td>NaN</td>\n",
       "      <td>117923.04</td>\n",
       "    </tr>\n",
       "    <tr>\n",
       "      <th>2020-04-03</th>\n",
       "      <td>376.4</td>\n",
       "      <td>0.93</td>\n",
       "      <td>2.51</td>\n",
       "      <td>1.86</td>\n",
       "      <td>-374.0</td>\n",
       "      <td>Cowell</td>\n",
       "      <td>-695.64</td>\n",
       "      <td>114710.40</td>\n",
       "    </tr>\n",
       "    <tr>\n",
       "      <th>2020-04-06</th>\n",
       "      <td>381.4</td>\n",
       "      <td>0.95</td>\n",
       "      <td>2.48</td>\n",
       "      <td>1.90</td>\n",
       "      <td>NaN</td>\n",
       "      <td>NaN</td>\n",
       "      <td>NaN</td>\n",
       "      <td>117431.53</td>\n",
       "    </tr>\n",
       "    <tr>\n",
       "      <th>2020-04-07</th>\n",
       "      <td>387.6</td>\n",
       "      <td>0.96</td>\n",
       "      <td>2.60</td>\n",
       "      <td>2.00</td>\n",
       "      <td>NaN</td>\n",
       "      <td>NaN</td>\n",
       "      <td>NaN</td>\n",
       "      <td>121448.64</td>\n",
       "    </tr>\n",
       "    <tr>\n",
       "      <th>2020-04-08</th>\n",
       "      <td>385.0</td>\n",
       "      <td>0.95</td>\n",
       "      <td>2.54</td>\n",
       "      <td>1.99</td>\n",
       "      <td>NaN</td>\n",
       "      <td>NaN</td>\n",
       "      <td>NaN</td>\n",
       "      <td>120147.16</td>\n",
       "    </tr>\n",
       "  </tbody>\n",
       "</table>\n",
       "<p>559 rows × 8 columns</p>\n",
       "</div>"
      ],
      "text/plain": [
       "            Tencent  CKLife  Waison  Cowell  quantity   asset  trade_value  \\\n",
       "Date                                                                         \n",
       "2018-01-02    417.8    0.60    3.82    2.80       NaN     NaN          NaN   \n",
       "2018-01-03    422.2    0.60    3.92    2.79       NaN     NaN          NaN   \n",
       "2018-01-04    431.8    0.59    4.11    2.77       NaN     NaN          NaN   \n",
       "2018-01-05    433.2    0.61    4.14    2.72       NaN     NaN          NaN   \n",
       "2018-01-08    438.6    0.60    4.07    2.68       NaN     NaN          NaN   \n",
       "...             ...     ...     ...     ...       ...     ...          ...   \n",
       "2020-04-02    379.8    0.96    2.51    1.89       NaN     NaN          NaN   \n",
       "2020-04-03    376.4    0.93    2.51    1.86    -374.0  Cowell      -695.64   \n",
       "2020-04-06    381.4    0.95    2.48    1.90       NaN     NaN          NaN   \n",
       "2020-04-07    387.6    0.96    2.60    2.00       NaN     NaN          NaN   \n",
       "2020-04-08    385.0    0.95    2.54    1.99       NaN     NaN          NaN   \n",
       "\n",
       "            portfolio_value  \n",
       "Date                         \n",
       "2018-01-02        100000.00  \n",
       "2018-01-03        100670.00  \n",
       "2018-01-04        102001.00  \n",
       "2018-01-05        102354.00  \n",
       "2018-01-08        102775.00  \n",
       "...                     ...  \n",
       "2020-04-02        117923.04  \n",
       "2020-04-03        114710.40  \n",
       "2020-04-06        117431.53  \n",
       "2020-04-07        121448.64  \n",
       "2020-04-08        120147.16  \n",
       "\n",
       "[559 rows x 8 columns]"
      ]
     },
     "execution_count": 84,
     "metadata": {},
     "output_type": "execute_result"
    }
   ],
   "source": [
    "s.data"
   ]
  },
  {
   "cell_type": "code",
   "execution_count": 82,
   "metadata": {},
   "outputs": [
    {
     "data": {
      "text/plain": [
       "Series([], Name: portfolio_value, dtype: float64)"
      ]
     },
     "execution_count": 82,
     "metadata": {},
     "output_type": "execute_result"
    }
   ],
   "source": [
    "s.data['portfolio_value'][s.data['portfolio_value'].isna()]"
   ]
  },
  {
   "cell_type": "code",
   "execution_count": 85,
   "metadata": {},
   "outputs": [
    {
     "data": {
      "text/plain": [
       "Tencent              414.8\n",
       "CKLife                0.59\n",
       "Waison                3.96\n",
       "Cowell                 2.2\n",
       "quantity               NaN\n",
       "asset                  NaN\n",
       "trade_value            NaN\n",
       "portfolio_value    97458.4\n",
       "Name: 2018-02-07 00:00:00, dtype: object"
      ]
     },
     "execution_count": 85,
     "metadata": {},
     "output_type": "execute_result"
    }
   ],
   "source": [
    "s.data.loc['2018-02-07']"
   ]
  },
  {
   "cell_type": "code",
   "execution_count": 125,
   "metadata": {},
   "outputs": [
    {
     "data": {
      "image/png": "[encoded data removed]",
      "text/plain": [
       "<Figure size 432x288 with 1 Axes>"
      ]
     },
     "metadata": {},
     "output_type": "display_data"
    }
   ],
   "source": [
    "import matplotlib.pyplot as plt\n",
    "import numpy as np\n",
    "import pandas as pd\n",
    " \n",
    "# Make a data frame \n",
    "# style\n",
    "plt.style.use('seaborn-darkgrid')\n",
    " \n",
    "# create a color palette\n",
    "palette = plt.get_cmap('Set1')\n",
    "\n",
    "cols = list(s.data.columns[:4])\n",
    " \n",
    "# multiple line plot\n",
    "num=0\n",
    "for column in cols:\n",
    "    num+=1\n",
    "    plt.plot(s.data.index, s.data[column]/s.data[column][0], marker='', color=palette(num), linewidth=1, alpha=0.9)"
   ]
  },
  {
   "cell_type": "code",
   "execution_count": 124,
   "metadata": {},
   "outputs": [
    {
     "data": {
      "text/plain": [
       "417.8"
      ]
     },
     "execution_count": 124,
     "metadata": {},
     "output_type": "execute_result"
    }
   ],
   "source": [
    "s.data['tencent'][0]"
   ]
  },
  {
   "cell_type": "code",
   "execution_count": 172,
   "metadata": {},
   "outputs": [],
   "source": [
    "def make_fake_column(n, S0):\n",
    "    data = [S0]\n",
    "    for i in range(n):\n",
    "        mu, sigma = .1, .1 # mean and standard deviation\n",
    "        s = np.random.normal(mu, sigma, 1)\n",
    "        current = data[i-1] + s[0]\n",
    "        data.append(current)\n",
    "    return data"
   ]
  },
  {
   "cell_type": "code",
   "execution_count": 35,
   "metadata": {},
   "outputs": [],
   "source": [
    "import datetime"
   ]
  },
  {
   "cell_type": "code",
   "execution_count": 45,
   "metadata": {},
   "outputs": [],
   "source": [
    "base = datetime.datetime.today()\n",
    "date_list = [(base - datetime.timedelta(days=x)).strftime(\"%Y-%m-%d\") for x in range(1500)]"
   ]
  },
  {
   "cell_type": "code",
   "execution_count": null,
   "metadata": {},
   "outputs": [],
   "source": []
  },
  {
   "cell_type": "code",
   "execution_count": 2,
   "metadata": {},
   "outputs": [],
   "source": [
    "import pandas as pd"
   ]
  },
  {
   "cell_type": "code",
   "execution_count": null,
   "metadata": {},
   "outputs": [],
   "source": []
  },
  {
   "cell_type": "code",
   "execution_count": 5,
   "metadata": {},
   "outputs": [],
   "source": [
    "results = pd.read_csv(\"bt_app/hk_stocks.csv\")"
   ]
  },
  {
   "cell_type": "code",
   "execution_count": 13,
   "metadata": {},
   "outputs": [],
   "source": [
    "results[['Tencent','CKLife', 'Waison', 'Cowell']] = results[['Tencent','CKLife', 'Waison', 'Cowell']].fillna(method='pad')"
   ]
  },
  {
   "cell_type": "code",
   "execution_count": 14,
   "metadata": {},
   "outputs": [
    {
     "data": {
      "text/html": [
       "<div>\n",
       "<style scoped>\n",
       "    .dataframe tbody tr th:only-of-type {\n",
       "        vertical-align: middle;\n",
       "    }\n",
       "\n",
       "    .dataframe tbody tr th {\n",
       "        vertical-align: top;\n",
       "    }\n",
       "\n",
       "    .dataframe thead th {\n",
       "        text-align: right;\n",
       "    }\n",
       "</style>\n",
       "<table border=\"1\" class=\"dataframe\">\n",
       "  <thead>\n",
       "    <tr style=\"text-align: right;\">\n",
       "      <th></th>\n",
       "      <th>Date</th>\n",
       "      <th>Tencent</th>\n",
       "      <th>CKLife</th>\n",
       "      <th>Waison</th>\n",
       "      <th>Cowell</th>\n",
       "      <th>quantity</th>\n",
       "      <th>asset</th>\n",
       "      <th>trade_value</th>\n",
       "      <th>portfolio_value</th>\n",
       "    </tr>\n",
       "  </thead>\n",
       "  <tbody>\n",
       "  </tbody>\n",
       "</table>\n",
       "</div>"
      ],
      "text/plain": [
       "Empty DataFrame\n",
       "Columns: [Date, Tencent, CKLife, Waison, Cowell, quantity, asset, trade_value, portfolio_value]\n",
       "Index: []"
      ]
     },
     "execution_count": 14,
     "metadata": {},
     "output_type": "execute_result"
    }
   ],
   "source": [
    "results[results['Waison'].isna()]"
   ]
  },
  {
   "cell_type": "code",
   "execution_count": 15,
   "metadata": {},
   "outputs": [
    {
     "data": {
      "text/html": [
       "<div>\n",
       "<style scoped>\n",
       "    .dataframe tbody tr th:only-of-type {\n",
       "        vertical-align: middle;\n",
       "    }\n",
       "\n",
       "    .dataframe tbody tr th {\n",
       "        vertical-align: top;\n",
       "    }\n",
       "\n",
       "    .dataframe thead th {\n",
       "        text-align: right;\n",
       "    }\n",
       "</style>\n",
       "<table border=\"1\" class=\"dataframe\">\n",
       "  <thead>\n",
       "    <tr style=\"text-align: right;\">\n",
       "      <th></th>\n",
       "      <th>Date</th>\n",
       "      <th>Tencent</th>\n",
       "      <th>CKLife</th>\n",
       "      <th>Waison</th>\n",
       "      <th>Cowell</th>\n",
       "      <th>quantity</th>\n",
       "      <th>asset</th>\n",
       "      <th>trade_value</th>\n",
       "      <th>portfolio_value</th>\n",
       "    </tr>\n",
       "  </thead>\n",
       "  <tbody>\n",
       "  </tbody>\n",
       "</table>\n",
       "</div>"
      ],
      "text/plain": [
       "Empty DataFrame\n",
       "Columns: [Date, Tencent, CKLife, Waison, Cowell, quantity, asset, trade_value, portfolio_value]\n",
       "Index: []"
      ]
     },
     "execution_count": 15,
     "metadata": {},
     "output_type": "execute_result"
    }
   ],
   "source": [
    "results[results['Cowell'].isna()]"
   ]
  },
  {
   "cell_type": "code",
   "execution_count": null,
   "metadata": {},
   "outputs": [],
   "source": []
  }
 ],
 "metadata": {
  "kernelspec": {
   "display_name": "Python 3",
   "language": "python",
   "name": "python3"
  },
  "language_info": {
   "codemirror_mode": {
    "name": "ipython",
    "version": 3
   },
   "file_extension": ".py",
   "mimetype": "text/x-python",
   "name": "python",
   "nbconvert_exporter": "python",
   "pygments_lexer": "ipython3",
   "version": "3.7.3"
  }
 },
 "nbformat": 4,
 "nbformat_minor": 4
}
